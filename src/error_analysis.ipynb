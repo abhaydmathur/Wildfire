{
 "cells": [
  {
   "cell_type": "code",
   "execution_count": 3,
   "metadata": {},
   "outputs": [],
   "source": [
    "import os\n",
    "\n",
    "os.environ['TORCH_HOME'] = \"/data/amathur-23/ROB313/\""
   ]
  },
  {
   "cell_type": "code",
   "execution_count": 16,
   "metadata": {},
   "outputs": [
    {
     "name": "stdout",
     "output_type": "stream",
     "text": [
      "Using ResNet50 with 2048 FC input features\n"
     ]
    }
   ],
   "source": [
    "from models import ResNetBinaryClassifier\n",
    "import torch \n",
    "\n",
    "projection_path = '/data/amathur-23/ROB313/models/best_model.pth'\n",
    "\n",
    "model = ResNetBinaryClassifier()\n",
    "model = torch.load(projection_path)\n",
    "# model.load_state_dict(torch.load(projection_path))\n"
   ]
  },
  {
   "cell_type": "markdown",
   "metadata": {},
   "source": []
  },
  {
   "cell_type": "code",
   "execution_count": 19,
   "metadata": {},
   "outputs": [
    {
     "name": "stdout",
     "output_type": "stream",
     "text": [
      "Using ResNet50 with 2048 FC input features\n"
     ]
    },
    {
     "data": {
      "text/plain": [
       "<All keys matched successfully>"
      ]
     },
     "execution_count": 19,
     "metadata": {},
     "output_type": "execute_result"
    }
   ],
   "source": [
    "model = ResNetBinaryClassifier(backbone='resnet101')\n",
    "model.load_state_dict(torch.load(projection_path))"
   ]
  },
  {
   "cell_type": "code",
   "execution_count": 22,
   "metadata": {},
   "outputs": [
    {
     "name": "stdout",
     "output_type": "stream",
     "text": [
      "Loading meta file: /data/amathur-23/ROB313/test.csv\n"
     ]
    }
   ],
   "source": [
    "from utils.datasets import WildfireDataset\n",
    "\n",
    "dataset = WildfireDataset('/data/amathur-23/ROB313', split='test')\n",
    "\n",
    "loader = torch.utils.data.DataLoader(dataset, batch_size=16, shuffle=True)"
   ]
  },
  {
   "cell_type": "code",
   "execution_count": 23,
   "metadata": {},
   "outputs": [
    {
     "ename": "ValueError",
     "evalue": "too many values to unpack (expected 2)",
     "output_type": "error",
     "traceback": [
      "\u001b[0;31m---------------------------------------------------------------------------\u001b[0m",
      "\u001b[0;31mValueError\u001b[0m                                Traceback (most recent call last)",
      "Cell \u001b[0;32mIn[23], line 16\u001b[0m\n\u001b[1;32m     13\u001b[0m     plt\u001b[38;5;241m.\u001b[39mshow()\n\u001b[1;32m     15\u001b[0m \u001b[38;5;66;03m# Iterate over the data in the loader\u001b[39;00m\n\u001b[0;32m---> 16\u001b[0m \u001b[38;5;28;01mfor\u001b[39;00m images, labels \u001b[38;5;129;01min\u001b[39;00m loader:\n\u001b[1;32m     17\u001b[0m     outputs \u001b[38;5;241m=\u001b[39m model(images)\n\u001b[1;32m     18\u001b[0m     preds \u001b[38;5;241m=\u001b[39m torch\u001b[38;5;241m.\u001b[39mround(torch\u001b[38;5;241m.\u001b[39msigmoid(outputs))\u001b[38;5;241m.\u001b[39msqueeze()\n",
      "\u001b[0;31mValueError\u001b[0m: too many values to unpack (expected 2)"
     ]
    }
   ],
   "source": [
    "import numpy as np\n",
    "\n",
    "import matplotlib.pyplot as plt\n",
    "\n",
    "# Set the model to evaluation mode\n",
    "model.eval()\n",
    "\n",
    "# Function to show an image\n",
    "def imshow(img):\n",
    "    img = img / 2 + 0.5  # unnormalize\n",
    "    npimg = img.numpy()\n",
    "    plt.imshow(np.transpose(npimg, (1, 2, 0)))\n",
    "    plt.show()\n",
    "\n",
    "# Iterate over the data in the loader\n",
    "for images, labels in loader:\n",
    "    outputs = model(images)\n",
    "    preds = torch.round(torch.sigmoid(outputs)).squeeze()\n",
    "\n",
    "    # Find indices where prediction does not match the label\n",
    "    mismatch_indices = (preds != labels).nonzero(as_tuple=True)[0]\n",
    "\n",
    "    # Show images where prediction does not match the label\n",
    "    for idx in mismatch_indices:\n",
    "        imshow(images[idx])\n",
    "        print(f\"Prediction: {preds[idx].item()}, Label: {labels[idx].item()}\")"
   ]
  }
 ],
 "metadata": {
  "kernelspec": {
   "display_name": "fyre",
   "language": "python",
   "name": "python3"
  },
  "language_info": {
   "codemirror_mode": {
    "name": "ipython",
    "version": 3
   },
   "file_extension": ".py",
   "mimetype": "text/x-python",
   "name": "python",
   "nbconvert_exporter": "python",
   "pygments_lexer": "ipython3",
   "version": "3.12.3"
  }
 },
 "nbformat": 4,
 "nbformat_minor": 2
}
